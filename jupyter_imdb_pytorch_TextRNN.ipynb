{
 "cells": [
  {
   "cell_type": "code",
   "execution_count": 2,
   "metadata": {},
   "outputs": [
    {
     "name": "stderr",
     "output_type": "stream",
     "text": [
      "Using TensorFlow backend.\n"
     ]
    }
   ],
   "source": [
    "import torch\n",
    "import torch.nn as nn\n",
    "import torch.nn.functional as F\n",
    "from torch.autograd import Variable\n",
    "from torch.optim import SGD, Adagrad # Adam doesn't currently support autograd with embedding layers\n",
    "import numpy as np\n",
    "from tflearn.data_utils import pad_sequences\n",
    "import pickle as pkl\n",
    "from keras.utils import to_categorical\n",
    "import json\n",
    "from tqdm import tqdm\n",
    "from torch.utils.data import Dataset, DataLoader\n",
    "import torch.optim as optim\n",
    "from pytorch_imdb_datahandle import lazy_load_imdb_data\n",
    "#from pytorch_TextRNN_model2 import TextRNN\n",
    "\n",
    "\n",
    "MAX_FEATURE = 10000\n",
    "SENTENCE_LEN = 300\n",
    "EMBEDDING_DIMS = 100\n",
    "BATCH_SIZE = 50\n",
    "NGRAME_RANGE = 1\n",
    "N_FILTERS = 100\n",
    "FILTER_SIZES = [3,4,5]\n",
    "OUTPUT_DIM = 2\n",
    "HIDDEN_DIM = 256\n",
    "DROPOUT = 0.5\n",
    "N_LAYERS = 2\n",
    "BIDIRECTIONAL = True"
   ]
  },
  {
   "cell_type": "code",
   "execution_count": 3,
   "metadata": {},
   "outputs": [],
   "source": [
    "\n",
    "def create_glove_embeddings(embedding_dims, max_feature):\n",
    "    def get_word2index_dict(path='imdb_word_index.json'):\n",
    "        with open(path) as f:\n",
    "            return json.load(f)\n",
    "\n",
    "    # A dictionary mapping words to an integer index\n",
    "    word_index = get_word2index_dict()  # {word:index}\n",
    "\n",
    "    # The first indices are reserved\n",
    "    word_index = {k: (v + 3) for k, v in word_index.items()}\n",
    "    word_index[\"<PAD>\"] = 0\n",
    "    word_index[\"<START>\"] = 1\n",
    "    word_index[\"<UNK>\"] = 2  # unknown\n",
    "    word_index[\"<UNUSED>\"] = 3\n",
    "\n",
    "    print('Pretrained embeddings GloVe is loading...')\n",
    "\n",
    "    embeddings_index = {}\n",
    "    f = open('/liruishaer/Work2/NLP_models/glove.6B/glove.6B.%id.txt' % embedding_dims)\n",
    "    for line in f:\n",
    "        values = line.split()\n",
    "        word = values[0]\n",
    "        coefs = np.asarray(values[1:], dtype='float32')\n",
    "        embeddings_index[word] = coefs\n",
    "    f.close()\n",
    "    print('Found %s word vectors in GloVe embedding' % len(embeddings_index))\n",
    "\n",
    "    embedding_matrix = np.zeros((max_feature, embedding_dims))\n",
    "    # embedding_matrix = torch.zeros(MAX_FEATURE, EMBEDDING_DIMS)\n",
    "\n",
    "    for word, i in word_index.items():\n",
    "        if i >= max_feature:\n",
    "            continue\n",
    "        embedding_vector = embeddings_index.get(word)\n",
    "        if embedding_vector is not None:\n",
    "            embedding_matrix[i] = embedding_vector\n",
    "            # embedding_matrix[i,:] = torch.from_numpy(embedding_vector)\n",
    "\n",
    "    embedding_matrix = torch.tensor(embedding_matrix)\n",
    "    return embedding_matrix\n",
    "\n",
    "\n",
    "class MyData(Dataset):\n",
    "    def __init__(self, x, y):\n",
    "        self.x = x\n",
    "        self.y = y\n",
    "        print(f\"x.shape: {self.x.shape}\")\n",
    "        print(f\"y.shape: {self.y.shape}\")\n",
    "\n",
    "    def __len__(self):\n",
    "        return self.y.shape[0]\n",
    "\n",
    "    def __getitem__(self, idx):\n",
    "        y_i = torch.LongTensor([self.y[idx]])\n",
    "        x_i = torch.LongTensor(self.x[idx].tolist())\n",
    "\n",
    "        return {\"x\": x_i, \"y\": y_i}\n"
   ]
  },
  {
   "cell_type": "code",
   "execution_count": 4,
   "metadata": {},
   "outputs": [],
   "source": [
    "\n",
    "def test():\n",
    "    model.eval()\n",
    "    test_loss = 0\n",
    "    correct = 0\n",
    "    for batch in tqdm(testing_loader):\n",
    "        batch_x = Variable(batch[\"x\"])\n",
    "        outputs = model(batch_x)\n",
    "        batch_y = Variable(batch['y'].reshape(1, -1).squeeze(0))\n",
    "        # test_loss += binary_loss(outputs, batch_y)\n",
    "        test_loss += binary_loss(outputs, batch_y).data\n",
    "\n",
    "        prediction = outputs.data.max(1, keepdim=True)[1]\n",
    "        # label = batch_y.data.max(1, keepdim=True)[1]\n",
    "        label = batch['y'].data\n",
    "        correct += prediction.eq(torch.LongTensor(label)).sum()\n",
    "\n",
    "    test_loss /= len(testing_loader.dataset)\n",
    "    accuracy = 100. * correct / len(testing_loader.dataset)\n",
    "    print(f'Average Test loss: {test_loss}')\n",
    "    print(f'Accuracy: {accuracy}')\n"
   ]
  },
  {
   "cell_type": "code",
   "execution_count": 5,
   "metadata": {},
   "outputs": [
    {
     "name": "stdout",
     "output_type": "stream",
     "text": [
      "data-1-10000-300.pkl\n",
      "lazy loading...\n",
      "Lazy load successful\n",
      "x.shape: (25000, 300)\n",
      "y.shape: (25000,)\n",
      "x.shape: (25000, 300)\n",
      "y.shape: (25000,)\n",
      "Pretrained embeddings GloVe is loading...\n",
      "Found 400000 word vectors in GloVe embedding\n"
     ]
    }
   ],
   "source": [
    "\n",
    "(x_train, y_train), (x_test, y_test) = lazy_load_imdb_data(ngram_range=1, max_features=MAX_FEATURE, sentence_len=SENTENCE_LEN)\n",
    "training_data = MyData(x_train, y_train)\n",
    "testing_data = MyData(x_test, y_test)\n",
    "training_loader = DataLoader(training_data, batch_size=BATCH_SIZE)\n",
    "testing_loader = DataLoader(testing_data, batch_size=BATCH_SIZE)\n",
    "\n",
    "\n",
    "embedding_matrix = create_glove_embeddings(EMBEDDING_DIMS,MAX_FEATURE)\n"
   ]
  },
  {
   "cell_type": "code",
   "execution_count": 11,
   "metadata": {},
   "outputs": [],
   "source": [
    "import time\n",
    "\n",
    "def train(epoch):\n",
    "    model.train()\n",
    "    print('-' * 10)\n",
    "    print(f'Epoch: {epoch+1}')\n",
    "    \n",
    "    batch_num = 0\n",
    "    for batch in training_loader:\n",
    "        batch_num += 1\n",
    "        # Get the inputs and wrap as Variables\n",
    "        batch_x = Variable(batch[\"x\"])\n",
    "#         print('batch_x.shape:',batch_x.shape)\n",
    "        # batch_y = Variable(batch[\"y\"])\n",
    "        batch_y = Variable(batch['y'].reshape(1, -1).squeeze(0))\n",
    "#         print('batch_y.shape:',batch_y.shape)\n",
    "        # zero the parameter gradients\n",
    "        optimizer.zero_grad()\n",
    "        # forward + backward + optimize\n",
    "        print('-------------------')\n",
    "        start = time.time()\n",
    "        outputs = model(batch_x)\n",
    "\n",
    "#         print(\"outputs.shape:\",outputs.shape)\n",
    "#         print(\"batch_y.shape:\",batch_y.shape)\n",
    "#         print(\"outputs\",outputs)\n",
    "#         print(\"batch_y\",batch_y)\n",
    "\n",
    "        loss = binary_loss(outputs, batch_y)\n",
    "        loss.backward()\n",
    "        optimizer.step()\n",
    "        end = time.time()\n",
    "        print('use_time:',end-start)\n",
    "        # test()\n",
    "        print('************')\n",
    "        \n",
    "        \n",
    "        # batch test\n",
    "        prediction = outputs.data.max(1, keepdim=True)[1]\n",
    "        label = batch['y'].data\n",
    "        correct = prediction.eq(torch.LongTensor(label)).sum()\n",
    "        train_acc = correct.float() / len(batch_x)\n",
    "        print('batch:',batch_num,'\\ttrain_loss:',loss.data,'\\ttrain_acc:',train_acc)\n",
    "\n"
   ]
  },
  {
   "cell_type": "code",
   "execution_count": 12,
   "metadata": {},
   "outputs": [],
   "source": [
    "class TextRNN(nn.Module):\n",
    "    def __init__(self, vocab_size, embedding_dim, hidden_dim, output_dim, n_layers, bidirectional, dropout):\n",
    "        super().__init__()\n",
    "\n",
    "        self.embeds = nn.Embedding(vocab_size, embedding_dim)\n",
    "        self.rnn = nn.LSTM(embedding_dim, hidden_dim, num_layers=n_layers, bidirectional=bidirectional, dropout=dropout)\n",
    "        self.fc = nn.Linear(hidden_dim * 2, output_dim)\n",
    "        self.dropout = nn.Dropout(dropout)\n",
    "\n",
    "    def forward(self, x):\n",
    "        # x = [sent len, batch size]\n",
    "        x = x.permute(1,0)\n",
    "#         print('x.shape:',x.shape)\n",
    "\n",
    "        embedded = self.dropout(self.embeds(x))\n",
    "#         print('embedded.shape:',embedded.shape)\n",
    "\n",
    "        # embedded = [sent len, batch size, emb dim]\n",
    "\n",
    "        output, (hidden, cell) = self.rnn(embedded)\n",
    "\n",
    "        # output = [sent len, batch size, hid dim * num directions]\n",
    "        # hidden = [num layers * num directions, batch size, hid dim]\n",
    "        # cell = [num layers * num directions, batch size, hid dim]\n",
    "\n",
    "        # concat the final forward (hidden[-2,:,:]) and backward (hidden[-1,:,:]) hidden layers\n",
    "        # and apply dropout\n",
    "\n",
    "        hidden = self.dropout(torch.cat((hidden[-2, :, :], hidden[-1, :, :]), dim=1))\n",
    "#         print('hidden.shape:',hidden.shape)\n",
    "\n",
    "        # hidden = [batch size, hid dim * num directions]\n",
    "        \n",
    "        out = self.fc(hidden.squeeze(0))\n",
    "#         print('out.shape:',out.shape)\n",
    "\n",
    "        return out\n"
   ]
  },
  {
   "cell_type": "code",
   "execution_count": 13,
   "metadata": {},
   "outputs": [
    {
     "data": {
      "text/plain": [
       "tensor([[ 0.0000,  0.0000,  0.0000,  ...,  0.0000,  0.0000,  0.0000],\n",
       "        [ 0.0000,  0.0000,  0.0000,  ...,  0.0000,  0.0000,  0.0000],\n",
       "        [ 0.0000,  0.0000,  0.0000,  ...,  0.0000,  0.0000,  0.0000],\n",
       "        ...,\n",
       "        [ 0.5569,  0.3345,  0.0683,  ...,  0.0375, -0.5230,  0.5233],\n",
       "        [ 0.0453,  0.3146,  0.6410,  ..., -0.1689, -1.0540,  0.4726],\n",
       "        [ 0.3994,  0.5463,  0.3801,  ...,  0.4579, -0.1834,  0.1226]])"
      ]
     },
     "execution_count": 13,
     "metadata": {},
     "output_type": "execute_result"
    }
   ],
   "source": [
    "model = TextRNN(MAX_FEATURE,EMBEDDING_DIMS,HIDDEN_DIM,OUTPUT_DIM,N_LAYERS,BIDIRECTIONAL,DROPOUT)\n",
    "model.embeds.weight.data.copy_(embedding_matrix)\n"
   ]
  },
  {
   "cell_type": "code",
   "execution_count": 14,
   "metadata": {},
   "outputs": [],
   "source": [
    "binary_loss = nn.CrossEntropyLoss()\n",
    "optimizer = optim.Adam(model.parameters())"
   ]
  },
  {
   "cell_type": "code",
   "execution_count": 18,
   "metadata": {},
   "outputs": [],
   "source": [
    "# n_epochs = 1\n",
    "# for i in range(n_epochs):\n",
    "#     train(i)"
   ]
  },
  {
   "cell_type": "code",
   "execution_count": 50,
   "metadata": {},
   "outputs": [
    {
     "name": "stdout",
     "output_type": "stream",
     "text": [
      "-------------------\n",
      "use_time: 23.362332344055176\n",
      "************\n",
      "batch: 1 \ttrain_loss: tensor(0.6678) \ttrain_acc: tensor(0.5400)\n"
     ]
    }
   ],
   "source": [
    "batch_num = 0\n",
    "batch = None\n",
    "for cur_batch in training_loader:\n",
    "    batch = cur_batch\n",
    "    batch_num += 1\n",
    "    break\n",
    "# Get the inputs and wrap as Variables\n",
    "batch_x = Variable(batch[\"x\"])\n",
    "# batch_y = Variable(batch[\"y\"])\n",
    "batch_y = Variable(batch['y'].reshape(1, -1).squeeze(0))\n",
    "# zero the parameter gradients\n",
    "optimizer.zero_grad()\n",
    "# forward + backward + optimize\n",
    "print('-------------------')\n",
    "start = time.time()\n",
    "outputs = model(batch_x)\n",
    "\n",
    "loss = binary_loss(outputs, batch_y)\n",
    "loss.backward()\n",
    "optimizer.step()\n",
    "end = time.time()\n",
    "print('use_time:',end-start)\n",
    "# test()\n",
    "print('************')\n",
    "\n",
    "\n",
    "# batch test\n",
    "prediction = outputs.data.max(1, keepdim=True)[1]\n",
    "label = batch['y'].data\n",
    "correct = prediction.eq(torch.LongTensor(label)).sum()\n",
    "train_acc = correct.float() / len(batch_x)\n",
    "print('batch:',batch_num,'\\ttrain_loss:',loss.data,'\\ttrain_acc:',train_acc)\n",
    "    \n",
    "#     break"
   ]
  },
  {
   "cell_type": "code",
   "execution_count": 57,
   "metadata": {},
   "outputs": [
    {
     "data": {
      "text/plain": [
       "tensor(27)"
      ]
     },
     "execution_count": 57,
     "metadata": {},
     "output_type": "execute_result"
    }
   ],
   "source": [
    "correct"
   ]
  },
  {
   "cell_type": "code",
   "execution_count": 56,
   "metadata": {},
   "outputs": [
    {
     "data": {
      "text/plain": [
       "0.54"
      ]
     },
     "execution_count": 56,
     "metadata": {},
     "output_type": "execute_result"
    }
   ],
   "source": [
    " correct.item() / 50"
   ]
  },
  {
   "cell_type": "code",
   "execution_count": 49,
   "metadata": {},
   "outputs": [
    {
     "data": {
      "text/plain": [
       "tensor(0.5200)"
      ]
     },
     "execution_count": 49,
     "metadata": {},
     "output_type": "execute_result"
    }
   ],
   "source": [
    "newc = correct.float()/50\n",
    "newc"
   ]
  },
  {
   "cell_type": "code",
   "execution_count": 59,
   "metadata": {},
   "outputs": [
    {
     "data": {
      "text/plain": [
       "27"
      ]
     },
     "execution_count": 59,
     "metadata": {},
     "output_type": "execute_result"
    }
   ],
   "source": [
    "aa = prediction.eq(torch.LongTensor(label)).sum().item()\n",
    "aa"
   ]
  },
  {
   "cell_type": "code",
   "execution_count": 54,
   "metadata": {},
   "outputs": [
    {
     "data": {
      "text/plain": [
       "0.6677905321121216"
      ]
     },
     "execution_count": 54,
     "metadata": {},
     "output_type": "execute_result"
    }
   ],
   "source": [
    "loss.item()"
   ]
  },
  {
   "cell_type": "code",
   "execution_count": null,
   "metadata": {},
   "outputs": [],
   "source": []
  }
 ],
 "metadata": {
  "kernelspec": {
   "display_name": "Python 3",
   "language": "python",
   "name": "python3"
  },
  "language_info": {
   "codemirror_mode": {
    "name": "ipython",
    "version": 3
   },
   "file_extension": ".py",
   "mimetype": "text/x-python",
   "name": "python",
   "nbconvert_exporter": "python",
   "pygments_lexer": "ipython3",
   "version": "3.6.3"
  }
 },
 "nbformat": 4,
 "nbformat_minor": 2
}
