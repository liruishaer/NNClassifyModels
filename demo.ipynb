{
 "cells": [
  {
   "cell_type": "code",
   "execution_count": 1,
   "metadata": {},
   "outputs": [],
   "source": [
    "\n",
    "import numpy as np\n",
    "from tflearn.data_utils import pad_sequences\n",
    "from sklearn.model_selection import StratifiedShuffleSplit"
   ]
  },
  {
   "cell_type": "code",
   "execution_count": 2,
   "metadata": {},
   "outputs": [],
   "source": [
    "\n",
    "def load_data(path='imdb.npz', num_words=None, skip_top=0, seed=113, start_char=1, oov_char=2, index_from=3):\n",
    "    # 1. load data\n",
    "    with np.load(path) as f:\n",
    "        x_train, labels_train = f['x_train'], f['y_train']\n",
    "        x_test, labels_test = f['x_test'], f['y_test']\n",
    "\n",
    "\n",
    "    xs = np.concatenate([x_train, x_test])\n",
    "    labels = np.concatenate([labels_train, labels_test])\n",
    "\n",
    "    return xs,labels\n"
   ]
  },
  {
   "cell_type": "code",
   "execution_count": 22,
   "metadata": {},
   "outputs": [],
   "source": [
    "xs,ys = load_data()"
   ]
  },
  {
   "cell_type": "code",
   "execution_count": 24,
   "metadata": {},
   "outputs": [
    {
     "data": {
      "text/plain": [
       "50000"
      ]
     },
     "execution_count": 24,
     "metadata": {},
     "output_type": "execute_result"
    }
   ],
   "source": [
    "len(xs)"
   ]
  },
  {
   "cell_type": "code",
   "execution_count": 55,
   "metadata": {},
   "outputs": [],
   "source": [
    "\n",
    "def split_dataset(xs,ys):\n",
    "    #sss = StratifiedShuffleSplit(n_splits=5,test_size=0.2,random_state=0)\n",
    "    sss = StratifiedShuffleSplit(n_splits=5,train_size=40000,test_size=10000,random_state=0)\n",
    "    for train_idx,test_idx in sss.split(xs,ys):\n",
    "        x_train,x_test = xs[train_idx],xs[test_idx]\n",
    "        y_train,y_test = ys[train_idx],ys[test_idx]\n",
    "        print('x_train:',len(x_train))\n",
    "        print('x_test:',len(x_test))\n",
    "        print('*******')\n",
    "        aset = set(train_idx)\n",
    "        bset = set(test_idx)\n",
    "        c = aset.intersection(bset)\n",
    "        print(y_train.sum())\n",
    "        print(y_test.sum())"
   ]
  },
  {
   "cell_type": "code",
   "execution_count": 56,
   "metadata": {},
   "outputs": [
    {
     "name": "stdout",
     "output_type": "stream",
     "text": [
      "x_train: 40000\n",
      "x_test: 10000\n",
      "*******\n",
      "20000\n",
      "5000\n",
      "x_train: 40000\n",
      "x_test: 10000\n",
      "*******\n",
      "20000\n",
      "5000\n",
      "x_train: 40000\n",
      "x_test: 10000\n",
      "*******\n",
      "20000\n",
      "5000\n",
      "x_train: 40000\n",
      "x_test: 10000\n",
      "*******\n",
      "20000\n",
      "5000\n",
      "x_train: 40000\n",
      "x_test: 10000\n",
      "*******\n",
      "20000\n",
      "5000\n"
     ]
    }
   ],
   "source": [
    "split_dataset(xs,ys)"
   ]
  },
  {
   "cell_type": "code",
   "execution_count": null,
   "metadata": {},
   "outputs": [],
   "source": []
  }
 ],
 "metadata": {
  "kernelspec": {
   "display_name": "Python 3",
   "language": "python",
   "name": "python3"
  },
  "language_info": {
   "codemirror_mode": {
    "name": "ipython",
    "version": 3
   },
   "file_extension": ".py",
   "mimetype": "text/x-python",
   "name": "python",
   "nbconvert_exporter": "python",
   "pygments_lexer": "ipython3",
   "version": "3.6.3"
  }
 },
 "nbformat": 4,
 "nbformat_minor": 2
}
