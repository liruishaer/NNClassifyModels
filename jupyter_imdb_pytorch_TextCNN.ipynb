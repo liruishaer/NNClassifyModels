{
 "cells": [
  {
   "cell_type": "code",
   "execution_count": 1,
   "metadata": {},
   "outputs": [
    {
     "name": "stderr",
     "output_type": "stream",
     "text": [
      "Using TensorFlow backend.\n"
     ]
    }
   ],
   "source": [
    "import torch\n",
    "import torch.nn as nn\n",
    "import torch.nn.functional as F\n",
    "from torch.autograd import Variable\n",
    "from torch.optim import SGD, Adagrad # Adam doesn't currently support autograd with embedding layers\n",
    "import numpy as np\n",
    "from tflearn.data_utils import pad_sequences\n",
    "import pickle as pkl\n",
    "from keras.utils import to_categorical\n",
    "import json\n",
    "from tqdm import tqdm\n",
    "from torch.utils.data import Dataset, DataLoader\n",
    "import torch.optim as optim\n",
    "from pytorch_imdb_datahandle import lazy_load_imdb_data\n"
   ]
  },
  {
   "cell_type": "code",
   "execution_count": 52,
   "metadata": {},
   "outputs": [],
   "source": [
    "\n",
    "MAX_FEATURE = 10000\n",
    "SENTENCE_LEN = 250\n",
    "EMBEDDING_DIMS = 100\n",
    "NGRAME_RANGE = 1\n",
    "N_FILTERS = 50\n",
    "FILTER_SIZES = [3,4,5]\n",
    "OUTPUT_DIM = 2\n",
    "DROPOUT = 0.5"
   ]
  },
  {
   "cell_type": "code",
   "execution_count": 53,
   "metadata": {},
   "outputs": [],
   "source": [
    "\n",
    "class MyData(Dataset):\n",
    "    def __init__(self, x, y):\n",
    "        self.x = x\n",
    "        self.y = y\n",
    "        print(f\"x.shape: {self.x.shape}\")\n",
    "        print(f\"y.shape: {self.y.shape}\")\n",
    "\n",
    "    def __len__(self):\n",
    "        return self.y.shape[0]\n",
    "\n",
    "    def __getitem__(self, idx):\n",
    "        #         y_i = torch.FloatTensor(self.y[idx, :])\n",
    "        #         x_i = torch.LongTensor(self.x[idx].tolist())\n",
    "\n",
    "        y_i = torch.LongTensor([self.y[idx]])\n",
    "        x_i = torch.LongTensor(self.x[idx].tolist())\n",
    "\n",
    "        return {\"x\": x_i, \"y\": y_i}\n",
    "\n"
   ]
  },
  {
   "cell_type": "code",
   "execution_count": 54,
   "metadata": {},
   "outputs": [],
   "source": [
    "\n",
    "\n",
    "def create_glove_embeddings(embedding_dims, max_feature):\n",
    "    def get_word2index_dict(path='imdb_word_index.json'):\n",
    "        with open(path) as f:\n",
    "            return json.load(f)\n",
    "\n",
    "    # A dictionary mapping words to an integer index\n",
    "    word_index = get_word2index_dict()  # {word:index}\n",
    "\n",
    "    # The first indices are reserved\n",
    "    word_index = {k: (v + 3) for k, v in word_index.items()}\n",
    "    word_index[\"<PAD>\"] = 0\n",
    "    word_index[\"<START>\"] = 1\n",
    "    word_index[\"<UNK>\"] = 2  # unknown\n",
    "    word_index[\"<UNUSED>\"] = 3\n",
    "\n",
    "    print('Pretrained embeddings GloVe is loading...')\n",
    "\n",
    "    embeddings_index = {}\n",
    "    f = open('/liruishaer/Work2/NLP_models/glove.6B/glove.6B.%id.txt' % embedding_dims)\n",
    "    for line in f:\n",
    "        values = line.split()\n",
    "        word = values[0]\n",
    "        coefs = np.asarray(values[1:], dtype='float32')\n",
    "        embeddings_index[word] = coefs\n",
    "    f.close()\n",
    "    print('Found %s word vectors in GloVe embedding' % len(embeddings_index))\n",
    "\n",
    "    embedding_matrix = np.zeros((max_feature, embedding_dims))\n",
    "    # embedding_matrix = torch.zeros(MAX_FEATURE, EMBEDDING_DIMS)\n",
    "\n",
    "    for word, i in word_index.items():\n",
    "        if i >= max_feature:\n",
    "            continue\n",
    "        embedding_vector = embeddings_index.get(word)\n",
    "        if embedding_vector is not None:\n",
    "            embedding_matrix[i] = embedding_vector\n",
    "            # embedding_matrix[i,:] = torch.from_numpy(embedding_vector)\n",
    "\n",
    "    embedding_matrix = torch.tensor(embedding_matrix)\n",
    "    return embedding_matrix\n",
    "\n"
   ]
  },
  {
   "cell_type": "code",
   "execution_count": 55,
   "metadata": {},
   "outputs": [
    {
     "name": "stdout",
     "output_type": "stream",
     "text": [
      "Pretrained embeddings GloVe is loading...\n",
      "Found 400000 word vectors in GloVe embedding\n"
     ]
    }
   ],
   "source": [
    "embedding_matrix = create_glove_embeddings(EMBEDDING_DIMS,MAX_FEATURE)"
   ]
  },
  {
   "cell_type": "code",
   "execution_count": 56,
   "metadata": {},
   "outputs": [
    {
     "name": "stdout",
     "output_type": "stream",
     "text": [
      "data-1-10000-250.pkl\n",
      "lazy loading...\n",
      "Lazy load successful\n",
      "x.shape: (25000, 250)\n",
      "y.shape: (25000,)\n",
      "x.shape: (25000, 250)\n",
      "y.shape: (25000,)\n"
     ]
    }
   ],
   "source": [
    "\n",
    "(x_train, y_train), (x_test, y_test) = lazy_load_imdb_data(ngram_range=1, max_features=MAX_FEATURE, sentence_len=SENTENCE_LEN)\n",
    "training_data = MyData(x_train, y_train)\n",
    "testing_data = MyData(x_test, y_test)\n",
    "training_loader = DataLoader(training_data, batch_size=444)\n",
    "testing_loader = DataLoader(testing_data, batch_size=444)\n"
   ]
  },
  {
   "cell_type": "markdown",
   "metadata": {},
   "source": [
    "## model"
   ]
  },
  {
   "cell_type": "code",
   "execution_count": 57,
   "metadata": {},
   "outputs": [],
   "source": [
    "# binary_loss = nn.BCELoss()\n",
    "binary_loss = nn.CrossEntropyLoss()\n",
    "optimizer = optim.Adam(model.parameters())"
   ]
  },
  {
   "cell_type": "code",
   "execution_count": 58,
   "metadata": {},
   "outputs": [],
   "source": [
    "\n",
    "from torch import nn\n",
    "import torch\n",
    "import torch.nn.functional as F\n",
    "\n",
    "\n",
    "\n",
    "class TextCNN(nn.Module):\n",
    "    def __init__(self, vocab_size, embedding_dim, n_filters, filter_sizes, output_dim, dropout):\n",
    "        super().__init__()\n",
    "\n",
    "        self.embeds = nn.Embedding(vocab_size, embedding_dim)\n",
    "        self.convs = nn.ModuleList(\n",
    "            [nn.Conv2d(in_channels=1, out_channels=n_filters, kernel_size=(fs, embedding_dim)) for fs in filter_sizes])\n",
    "        self.fc = nn.Linear(len(filter_sizes) * n_filters, output_dim)\n",
    "        self.dropout = nn.Dropout(dropout)\n",
    "        print('init model.....')\n",
    "\n",
    "    def forward(self, x):\n",
    "        # x = [batch size, sent len]\n",
    "\n",
    "        embedded = self.embeds(x)\n",
    "\n",
    "        # embedded = [batch size, sent len, emb dim]\n",
    "\n",
    "        embedded = embedded.unsqueeze(1)\n",
    "\n",
    "        # embedded = [batch size, 1, sent len, emb dim]\n",
    "\n",
    "        conved = [F.relu(conv(embedded)).squeeze(3) for conv in self.convs]\n",
    "\n",
    "        # conv_n = [batch size, n_filters, sent len - filter_sizes[n]]\n",
    "\n",
    "        pooled = [F.max_pool1d(conv, conv.shape[2]).squeeze(2) for conv in conved]\n",
    "        \n",
    "        # pooled_n = [batch size, n_filters]\n",
    "\n",
    "        cat = self.dropout(torch.cat(pooled, dim=1))\n",
    "\n",
    "        # cat = [batch size, n_filters * len(filter_sizes)]\n",
    "        \n",
    "        z = self.fc(cat)\n",
    "\n",
    "        z = z.squeeze(1)\n",
    "\n",
    "        return z"
   ]
  },
  {
   "cell_type": "code",
   "execution_count": 59,
   "metadata": {},
   "outputs": [],
   "source": [
    "\n",
    "def train(epoch):\n",
    "    print('-' * 10)\n",
    "    print(f'Epoch: {epoch+1}')\n",
    "    # for batch in tqdm(training_loader):\n",
    "    for batch in training_loader:\n",
    "        # Get the inputs and wrap as Variables\n",
    "        batch_x = Variable(batch[\"x\"])\n",
    "        # batch_y = Variable(batch[\"y\"])\n",
    "        batch_y = Variable(batch['y'].reshape(1, -1).squeeze(0))\n",
    "        # zero the parameter gradients\n",
    "        optimizer.zero_grad()\n",
    "        # forward + backward + optimize\n",
    "        outputs = model(batch_x)\n",
    "\n",
    "#         print(\"outputs.shape:\",outputs.shape)\n",
    "#         print(\"batch_y.shape:\",batch_y.shape)\n",
    "#         print(\"outputs\",outputs)\n",
    "#         print(\"batch_y\",batch_y)\n",
    "\n",
    "        loss = binary_loss(outputs, batch_y)\n",
    "        loss.backward()\n",
    "        optimizer.step()\n",
    "        \n",
    "        test()\n"
   ]
  },
  {
   "cell_type": "code",
   "execution_count": 60,
   "metadata": {},
   "outputs": [],
   "source": [
    "\n",
    "def test():\n",
    "    model.eval()\n",
    "    test_loss = 0\n",
    "    correct = 0\n",
    "    for batch in tqdm(testing_loader):\n",
    "        batch_x = Variable(batch[\"x\"])\n",
    "        outputs = model(batch_x)\n",
    "        batch_y = Variable(batch['y'].reshape(1,-1).squeeze(0))\n",
    "        test_loss += binary_loss(outputs, batch_y)\n",
    "\n",
    "        prediction = outputs.data.max(1, keepdim=True)[1]\n",
    "        #label = batch_y.data.max(1, keepdim=True)[1]\n",
    "        label = batch['y'].data\n",
    "        correct += prediction.eq(torch.LongTensor(label)).sum()\n",
    "    \n",
    "    test_loss /= len(testing_loader.dataset)\n",
    "    accuracy = 100. * correct / len(testing_loader.dataset)\n",
    "    \n",
    "    print(f'loss: {test_loss.data[0]} \\t Accuracy: {accuracy}')\n",
    "    \n",
    "#     print(f'Average Test loss: {test_loss.data[0]}')\n",
    "#     print(f'Accuracy: {accuracy}')"
   ]
  },
  {
   "cell_type": "code",
   "execution_count": 61,
   "metadata": {},
   "outputs": [
    {
     "name": "stdout",
     "output_type": "stream",
     "text": [
      "init model.....\n"
     ]
    },
    {
     "data": {
      "text/plain": [
       "tensor([[ 0.0000,  0.0000,  0.0000,  ...,  0.0000,  0.0000,  0.0000],\n",
       "        [ 0.0000,  0.0000,  0.0000,  ...,  0.0000,  0.0000,  0.0000],\n",
       "        [ 0.0000,  0.0000,  0.0000,  ...,  0.0000,  0.0000,  0.0000],\n",
       "        ...,\n",
       "        [ 0.5569,  0.3345,  0.0683,  ...,  0.0375, -0.5230,  0.5233],\n",
       "        [ 0.0453,  0.3146,  0.6410,  ..., -0.1689, -1.0540,  0.4726],\n",
       "        [ 0.3994,  0.5463,  0.3801,  ...,  0.4579, -0.1834,  0.1226]])"
      ]
     },
     "execution_count": 61,
     "metadata": {},
     "output_type": "execute_result"
    }
   ],
   "source": [
    "model = TextCNN(MAX_FEATURE, EMBEDDING_DIMS,N_FILTERS,FILTER_SIZES, OUTPUT_DIM, DROPOUT)\n",
    "model.embeds.weight.data.copy_(embedding_matrix)"
   ]
  },
  {
   "cell_type": "code",
   "execution_count": null,
   "metadata": {},
   "outputs": [
    {
     "name": "stdout",
     "output_type": "stream",
     "text": [
      "----------\n",
      "Epoch: 1\n"
     ]
    },
    {
     "name": "stderr",
     "output_type": "stream",
     "text": [
      " 37%|███▋      | 21/57 [00:31<04:40,  7.80s/it]"
     ]
    }
   ],
   "source": [
    "n_epochs = 5\n",
    "\n",
    "for i in range(n_epochs):\n",
    "    train(i)"
   ]
  },
  {
   "cell_type": "code",
   "execution_count": null,
   "metadata": {},
   "outputs": [],
   "source": []
  },
  {
   "cell_type": "code",
   "execution_count": null,
   "metadata": {},
   "outputs": [],
   "source": []
  }
 ],
 "metadata": {
  "kernelspec": {
   "display_name": "Python 3",
   "language": "python",
   "name": "python3"
  },
  "language_info": {
   "codemirror_mode": {
    "name": "ipython",
    "version": 3
   },
   "file_extension": ".py",
   "mimetype": "text/x-python",
   "name": "python",
   "nbconvert_exporter": "python",
   "pygments_lexer": "ipython3",
   "version": "3.6.3"
  }
 },
 "nbformat": 4,
 "nbformat_minor": 2
}
